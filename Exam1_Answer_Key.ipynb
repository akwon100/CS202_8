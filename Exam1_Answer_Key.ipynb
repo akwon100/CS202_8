{
 "cells": [
  {
   "cell_type": "markdown",
   "metadata": {},
   "source": [
    "1. D\n",
    "2. E\n",
    "3. E\n",
    "4. B\n",
    "5. A\n",
    "6. B\n",
    "7. C **\n",
    "8. E\n",
    "9. A\n",
    "10. D\n",
    "11. D\n",
    "12. C\n",
    "13. C\n",
    "14. E\n",
    "15. E\n",
    "16. B\n",
    "17. A\n",
    "18. E\n",
    "19. D\n",
    "20. C"
   ]
  },
  {
   "cell_type": "code",
   "execution_count": 1,
   "metadata": {},
   "outputs": [
    {
     "data": {
      "text/plain": [
       "4.25"
      ]
     },
     "execution_count": 1,
     "metadata": {},
     "output_type": "execute_result"
    }
   ],
   "source": [
    "#1\n",
    "13/4+13%4"
   ]
  },
  {
   "cell_type": "code",
   "execution_count": 3,
   "metadata": {},
   "outputs": [
    {
     "data": {
      "text/plain": [
       "5.0"
      ]
     },
     "execution_count": 3,
     "metadata": {},
     "output_type": "execute_result"
    }
   ],
   "source": [
    "#4\n",
    "x = 10/4\n",
    "y = 5/2.0\n",
    "x+y"
   ]
  },
  {
   "cell_type": "code",
   "execution_count": 4,
   "metadata": {},
   "outputs": [
    {
     "name": "stdout",
     "output_type": "stream",
     "text": [
      "how\n",
      "now\tbrown/ncow\n"
     ]
    }
   ],
   "source": [
    "#5\n",
    "print(\"how\\nnow\\tbrown/ncow\")"
   ]
  },
  {
   "cell_type": "code",
   "execution_count": 5,
   "metadata": {},
   "outputs": [
    {
     "name": "stdout",
     "output_type": "stream",
     "text": [
      "3.5\n",
      "2\n",
      "3.53.5\n"
     ]
    }
   ],
   "source": [
    "#6\n",
    "a = input()\n",
    "b = int(input())\n",
    "print(a*b)"
   ]
  },
  {
   "cell_type": "code",
   "execution_count": 8,
   "metadata": {},
   "outputs": [
    {
     "name": "stdout",
     "output_type": "stream",
     "text": [
      "B\n"
     ]
    }
   ],
   "source": [
    "#7\n",
    "x = 'A'\n",
    "print(chr(1 + ord(x)))"
   ]
  },
  {
   "cell_type": "code",
   "execution_count": 9,
   "metadata": {},
   "outputs": [
    {
     "name": "stdout",
     "output_type": "stream",
     "text": [
      "4\n"
     ]
    }
   ],
   "source": [
    "#8\n",
    "i = 0\n",
    "x = 3\n",
    "sum = 0\n",
    "\n",
    "while i<=x:\n",
    "    sum +=1\n",
    "    i+=1\n",
    "\n",
    "print(sum)"
   ]
  },
  {
   "cell_type": "code",
   "execution_count": 12,
   "metadata": {},
   "outputs": [
    {
     "name": "stdout",
     "output_type": "stream",
     "text": [
      "\"Have some cookie!\"\\\n"
     ]
    }
   ],
   "source": [
    "#9\n",
    "print(\"\\\"Have some cookie!\\\"\\\\\")#my aunt said\""
   ]
  },
  {
   "cell_type": "code",
   "execution_count": 13,
   "metadata": {},
   "outputs": [
    {
     "name": "stdout",
     "output_type": "stream",
     "text": [
      "Or here?\n",
      "Or over here?\n"
     ]
    }
   ],
   "source": [
    "#10\n",
    "x = 3\n",
    "if x ==0:\n",
    "    print(\"Am I here?\")\n",
    "elif x ==3:\n",
    "    print(\"Or here?\")\n",
    "print(\"Or over here?\")"
   ]
  },
  {
   "cell_type": "code",
   "execution_count": 14,
   "metadata": {},
   "outputs": [
    {
     "name": "stdout",
     "output_type": "stream",
     "text": [
      "2\n",
      "maybe\n"
     ]
    }
   ],
   "source": [
    "#12\n",
    "x = float(input())\n",
    "if x ==1:\n",
    "    print(\"yes\")\n",
    "elif x ==2:\n",
    "    print(\"maybe\")\n",
    "else:\n",
    "    print(\"no\")"
   ]
  },
  {
   "cell_type": "code",
   "execution_count": 18,
   "metadata": {},
   "outputs": [
    {
     "data": {
      "text/plain": [
       "True"
      ]
     },
     "execution_count": 18,
     "metadata": {},
     "output_type": "execute_result"
    }
   ],
   "source": [
    "#13\n",
    "a =3 \n",
    "txt = \"fun\"\n",
    "limit = 10\n",
    "words = 5\n",
    "\n",
    "#a == limit - words\n",
    "#not(words < limit)\n",
    "(a>limit) or (len(txt) < words)\n",
    "#words * a <limit\n",
    "#(len(txt)>0) and (limit - words <a)"
   ]
  },
  {
   "cell_type": "code",
   "execution_count": 20,
   "metadata": {},
   "outputs": [
    {
     "name": "stdout",
     "output_type": "stream",
     "text": [
      "32\n"
     ]
    }
   ],
   "source": [
    "#14\n",
    "x = 1\n",
    "while x<20:\n",
    "    x = x*2\n",
    "print(x)"
   ]
  },
  {
   "cell_type": "code",
   "execution_count": 22,
   "metadata": {},
   "outputs": [
    {
     "ename": "KeyboardInterrupt",
     "evalue": "",
     "output_type": "error",
     "traceback": [
      "\u001b[0;31m---------------------------------------------------------------------------\u001b[0m",
      "\u001b[0;31mKeyboardInterrupt\u001b[0m                         Traceback (most recent call last)",
      "\u001b[0;32m<ipython-input-22-ce37e5a930f4>\u001b[0m in \u001b[0;36m<module>\u001b[0;34m\u001b[0m\n\u001b[1;32m      1\u001b[0m \u001b[0;31m#15\u001b[0m\u001b[0;34m\u001b[0m\u001b[0;34m\u001b[0m\u001b[0;34m\u001b[0m\u001b[0m\n\u001b[1;32m      2\u001b[0m \u001b[0mx\u001b[0m \u001b[0;34m=\u001b[0m \u001b[0;36m1\u001b[0m\u001b[0;34m\u001b[0m\u001b[0;34m\u001b[0m\u001b[0m\n\u001b[0;32m----> 3\u001b[0;31m \u001b[0;32mwhile\u001b[0m \u001b[0mx\u001b[0m\u001b[0;34m<=\u001b[0m\u001b[0;36m5\u001b[0m\u001b[0;34m:\u001b[0m\u001b[0;34m\u001b[0m\u001b[0;34m\u001b[0m\u001b[0m\n\u001b[0m\u001b[1;32m      4\u001b[0m     \u001b[0mx\u001b[0m\u001b[0;34m+\u001b[0m\u001b[0;36m1\u001b[0m\u001b[0;34m\u001b[0m\u001b[0;34m\u001b[0m\u001b[0m\n\u001b[1;32m      5\u001b[0m \u001b[0mprint\u001b[0m\u001b[0;34m(\u001b[0m\u001b[0mx\u001b[0m\u001b[0;34m)\u001b[0m\u001b[0;34m\u001b[0m\u001b[0;34m\u001b[0m\u001b[0m\n",
      "\u001b[0;31mKeyboardInterrupt\u001b[0m: "
     ]
    }
   ],
   "source": [
    "#15\n",
    "x = 1\n",
    "while x<=5:\n",
    "    x+1 #see how x is stuck at 2 which is still less than 5\n",
    "print(x)"
   ]
  },
  {
   "cell_type": "code",
   "execution_count": 24,
   "metadata": {},
   "outputs": [
    {
     "name": "stdout",
     "output_type": "stream",
     "text": [
      "8\n"
     ]
    }
   ],
   "source": [
    "#16\n",
    "def bar(z):\n",
    "    i = 1\n",
    "    \n",
    "    while i <= z:\n",
    "        i*= 2\n",
    "    return i\n",
    "    print(i)\n",
    "    \n",
    "print(bar(7))"
   ]
  },
  {
   "cell_type": "code",
   "execution_count": 25,
   "metadata": {},
   "outputs": [
    {
     "name": "stdout",
     "output_type": "stream",
     "text": [
      "3\n",
      "0\n",
      "1\n",
      "2\n"
     ]
    },
    {
     "data": {
      "text/plain": [
       "3"
      ]
     },
     "execution_count": 25,
     "metadata": {},
     "output_type": "execute_result"
    }
   ],
   "source": [
    "#17\n",
    "def foo(x):\n",
    "    i=0\n",
    "    while i<x:\n",
    "        print(i)\n",
    "        i+=1\n",
    "        \n",
    "    return i\n",
    "\n",
    "n = int(input())\n",
    "foo(n)"
   ]
  },
  {
   "cell_type": "code",
   "execution_count": 32,
   "metadata": {},
   "outputs": [
    {
     "name": "stdout",
     "output_type": "stream",
     "text": [
      "2\n",
      "8.0\n"
     ]
    }
   ],
   "source": [
    "#18\n",
    "def func(x):\n",
    "    return x + 1\n",
    "\n",
    "n = int(input())\n",
    "print(func(n/2) * func(n+1))"
   ]
  },
  {
   "cell_type": "code",
   "execution_count": 31,
   "metadata": {},
   "outputs": [
    {
     "name": "stdout",
     "output_type": "stream",
     "text": [
      "3\n",
      "12.5\n"
     ]
    }
   ],
   "source": [
    "#18\n",
    "def func(x):\n",
    "    return x + 1\n",
    "\n",
    "n = int(input())\n",
    "print(func(n/2) * func(n+1))"
   ]
  },
  {
   "cell_type": "code",
   "execution_count": 33,
   "metadata": {},
   "outputs": [
    {
     "name": "stdout",
     "output_type": "stream",
     "text": [
      "2\n",
      "4\n",
      "4\n",
      "2\n"
     ]
    }
   ],
   "source": [
    "#19\n",
    "def square(x):\n",
    "    x = x*x\n",
    "    print(x)\n",
    "    return x\n",
    "\n",
    "x = 2\n",
    "print(x)\n",
    "print(square(x))\n",
    "print(x)"
   ]
  },
  {
   "cell_type": "code",
   "execution_count": 34,
   "metadata": {},
   "outputs": [],
   "source": [
    "#20\n",
    "#returns true if it is possible to add two of the integers to get the remainign one and false otherwise\n",
    "# e.g. twoAsOne(1,2,3) returns True\n",
    "# e.g. twoAsOne(3,1,2) returns True\n",
    "# e.g. twoAsOne(3,2,2) returns False\n",
    "# e.g. twoAsOne(5,2,8) returns False"
   ]
  },
  {
   "cell_type": "code",
   "execution_count": 39,
   "metadata": {},
   "outputs": [
    {
     "name": "stdout",
     "output_type": "stream",
     "text": [
      "True\n",
      "False\n",
      "False\n",
      "False\n"
     ]
    }
   ],
   "source": [
    "#A\n",
    "def twoAsOne(a,b,c):\n",
    "    if a+b == c:\n",
    "        return True\n",
    "    else: \n",
    "        return False\n",
    "    if a+c == b:\n",
    "        return True\n",
    "    else:\n",
    "        return False\n",
    "    if b+c == a:\n",
    "        return True\n",
    "    else:\n",
    "        return False\n",
    "    \n",
    "print(twoAsOne(1,2,3))\n",
    "print(twoAsOne(3,1,2))\n",
    "print(twoAsOne(3,2,2))\n",
    "print(twoAsOne(3,2,8))"
   ]
  },
  {
   "cell_type": "code",
   "execution_count": 40,
   "metadata": {},
   "outputs": [
    {
     "name": "stdout",
     "output_type": "stream",
     "text": [
      "False\n",
      "False\n",
      "False\n",
      "False\n"
     ]
    }
   ],
   "source": [
    "#B\n",
    "def twoAsOne(a,b,c):\n",
    "    if ((a+b == c) and (a+c ==b) and (b+c == a)):\n",
    "        return True\n",
    "    return False\n",
    "\n",
    "print(twoAsOne(1,2,3))\n",
    "print(twoAsOne(3,1,2))\n",
    "print(twoAsOne(3,2,2))\n",
    "print(twoAsOne(3,2,8))"
   ]
  },
  {
   "cell_type": "code",
   "execution_count": 41,
   "metadata": {},
   "outputs": [
    {
     "name": "stdout",
     "output_type": "stream",
     "text": [
      "True\n",
      "True\n",
      "False\n",
      "False\n"
     ]
    }
   ],
   "source": [
    "#C\n",
    "def twoAsOne(a,b,c):\n",
    "    if a+b == c:\n",
    "        return True\n",
    "    elif a+c == b or b+c ==a:\n",
    "        return True\n",
    "    return False\n",
    "\n",
    "print(twoAsOne(1,2,3))\n",
    "print(twoAsOne(3,1,2))\n",
    "print(twoAsOne(3,2,2))\n",
    "print(twoAsOne(3,2,8))"
   ]
  },
  {
   "cell_type": "code",
   "execution_count": 42,
   "metadata": {},
   "outputs": [
    {
     "name": "stdout",
     "output_type": "stream",
     "text": [
      "False\n",
      "False\n",
      "False\n",
      "False\n"
     ]
    }
   ],
   "source": [
    "#D \n",
    "def twoAsOne(a,b,c):\n",
    "    if a+b !=c:\n",
    "        return False\n",
    "    elif a+c!= b:\n",
    "        return False\n",
    "    elif b+c != a:\n",
    "        return False\n",
    "    else:\n",
    "        return True\n",
    "    \n",
    "print(twoAsOne(1,2,3))\n",
    "print(twoAsOne(3,1,2))\n",
    "print(twoAsOne(3,2,2))\n",
    "print(twoAsOne(3,2,8))"
   ]
  },
  {
   "cell_type": "code",
   "execution_count": null,
   "metadata": {},
   "outputs": [],
   "source": []
  }
 ],
 "metadata": {
  "kernelspec": {
   "display_name": "Python 3",
   "language": "python",
   "name": "python3"
  },
  "language_info": {
   "codemirror_mode": {
    "name": "ipython",
    "version": 3
   },
   "file_extension": ".py",
   "mimetype": "text/x-python",
   "name": "python",
   "nbconvert_exporter": "python",
   "pygments_lexer": "ipython3",
   "version": "3.7.4"
  }
 },
 "nbformat": 4,
 "nbformat_minor": 2
}
