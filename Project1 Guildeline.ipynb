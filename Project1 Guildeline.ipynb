{
 "cells": [
  {
   "cell_type": "markdown",
   "metadata": {},
   "source": [
    "## Mini Project 1\n",
    "<br> For this project we will be using data from kaggle. \n",
    "<br> Since we have all been struggling to recover from Covid. Find a data set from kaggle that you can understand. \n",
    "Ask yourself three questions about the data set and try solving them. For example if you have a data set from 2020 to 2021 that shows you the number of cases per region in the world you may ask yourself which countries have declining cases of covid 19 which may be due to better policies put in place during a pandemic.  \n",
    "<br>\n",
    "<br> You will be required to do use the following:\n",
    "    - numpy: usage of statistics should be present, such as: mean, median, mode or standard deviation. \n",
    "    - Pandas: there should be evidence that data has been cleaned. Evidence of data selection/manipulation. \n",
    "              Must use at least 5 different methods (e.g. groupby, apply., etc.)\n",
    "    - seaborn: there should be graphs present in both slides and jupyter notebook, they may overlap. \n",
    "    - matplotlib: there should be graphs present in both slides and jupyter notebook, they may overlap. \n",
    "<br> You will turn in one:\n",
    "    - slide presentation\n",
    "    - jupyter notebook. (All code should be clearly commented and markdowns should be included)\n",
    "\n"
   ]
  },
  {
   "cell_type": "code",
   "execution_count": null,
   "metadata": {},
   "outputs": [],
   "source": []
  }
 ],
 "metadata": {
  "kernelspec": {
   "display_name": "Python 3",
   "language": "python",
   "name": "python3"
  },
  "language_info": {
   "codemirror_mode": {
    "name": "ipython",
    "version": 3
   },
   "file_extension": ".py",
   "mimetype": "text/x-python",
   "name": "python",
   "nbconvert_exporter": "python",
   "pygments_lexer": "ipython3",
   "version": "3.7.4"
  }
 },
 "nbformat": 4,
 "nbformat_minor": 2
}
